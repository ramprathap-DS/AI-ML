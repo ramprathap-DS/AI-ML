{
 "cells": [
  {
   "cell_type": "code",
   "execution_count": 27,
   "metadata": {},
   "outputs": [
    {
     "name": "stdout",
     "output_type": "stream",
     "text": [
      " 3   5   7   11   13   17   19   23   29   31   37   41   43   47   53   59   61   67   71   73  "
     ]
    }
   ],
   "source": [
    "#Question 1 :\n",
    "#Write a Python program to find the first 20 non-even prime natural numbers.\n",
    "'''Print Variables. Printing variables in Python is a bit more complicated. \n",
    "If the variable you want to print is a number, use the special string %d inside the quotes and % variable outside the quotes.\n",
    "If you have more than one variable, you need to have a %d for each variable.'''\n",
    "\n",
    "for k in range (3,75):\n",
    "    count = 0\n",
    "    for i in range(2, (k//2 + 1)):\n",
    "        if(k % i == 0):\n",
    "            count = count + 1\n",
    "            break\n",
    "    \n",
    "    if ((count == 0 and k != 1) ):\n",
    "        print(\" %d\" % k, end = '  ') \n",
    "            \n"
   ]
  },
  {
   "cell_type": "code",
   "execution_count": 49,
   "metadata": {},
   "outputs": [
    {
     "name": "stdout",
     "output_type": "stream",
     "text": [
      "I AM RESPONSIBLE\n",
      "I am\n",
      "16\n",
      "False\n",
      "i AM rESPONSIBLE\n",
      "['I', 'am', 'Responsible']\n",
      "False\n",
      "True\n",
      "<class 'str'>\n",
      "True\n",
      " Responsibl\n"
     ]
    }
   ],
   "source": [
    "# Question 2 :\n",
    "# Write a Python program to implement 15 functions of string.\n",
    "s=\"I am Responsible\"\n",
    "print(s.upper()) # prints the output as capital letters\n",
    "print(s[:4]) # determines and print the charecters from 0 to n-1. where n is the second number\n",
    "print(len(s))# determines the length of thestring\n",
    "print(s.islower()) # determines whether the string is in lower case or not\n",
    "print(s.swapcase())#swaps the case of every character i.e. every uppercase is converted to lowercase and vice versa.\n",
    "print(s.split()) # splits the string given as argument on the basis of the separator provided. If nothing is provided as argument, then it splits based on whitespaces.\n",
    "print(s.isdigit())\n",
    "print(s.isprintable())#Python String isprintable() function returns True if all characters in the string are printable or the string is empty, False otherwise.\n",
    "print(type(\"s\"))\n",
    "print(bool(\"s\"))\n",
    "print(s[4 : -1])\n"
   ]
  },
  {
   "cell_type": "code",
   "execution_count": 5,
   "metadata": {},
   "outputs": [
    {
     "name": "stdout",
     "output_type": "stream",
     "text": [
      " please enter a string :shannu\n",
      "shannu  is not a palindrome, its anagram is  unnahs\n"
     ]
    }
   ],
   "source": [
    "#Question 3:\n",
    "#  Python program to check if the given string is a Palindrome or Anagram or None of them.\n",
    "# Display the message accordingly to the user\n",
    "s1=input(\" please enter a string :\",)# try using input()\n",
    "s2=s1[::-1]\n",
    "if s1==s2:\n",
    "    print(s1,\" is a palindrome\")\n",
    "else:\n",
    "    print(s1,\" is not a palindrome, its anagram is \",s2)\n",
    "    "
   ]
  },
  {
   "cell_type": "code",
   "execution_count": 35,
   "metadata": {},
   "outputs": [
    {
     "name": "stdout",
     "output_type": "stream",
     "text": [
      "enter the string:i am responsible\n",
      "the string with spaces removed is: iamresponsible\n"
     ]
    }
   ],
   "source": [
    "#question 4:\n",
    "'''Write a Python's user defined function that removes all the additional characters from the string\n",
    "and converts it finally to lower case using built-in lower(). eg: If the string is \"Dr. Darshan Ingle\n",
    "@AI-ML Trainer\", then the output be \"drdarshaningleaimltrainer\".'''\n",
    "\n",
    "'''Python String strip () function will remove leading and trailing whitespaces. \n",
    "If you want to remove only leading or trailing spaces, use lstrip () or rstrip () function instead. \n",
    "We can use replace () to remove all the whitespaces from the string. \n",
    "This function will remove whitespaces between words too'''\n",
    "\n",
    "def abc():\n",
    "    string=input(\"enter the string:\")\n",
    "    print(\"the string with spaces removed is:\",string.replace(\" \",\"\"))\n",
    "abc()\n",
    "\n"
   ]
  }
 ],
 "metadata": {
  "kernelspec": {
   "display_name": "Python 3",
   "language": "python",
   "name": "python3"
  },
  "language_info": {
   "codemirror_mode": {
    "name": "ipython",
    "version": 3
   },
   "file_extension": ".py",
   "mimetype": "text/x-python",
   "name": "python",
   "nbconvert_exporter": "python",
   "pygments_lexer": "ipython3",
   "version": "3.7.6"
  }
 },
 "nbformat": 4,
 "nbformat_minor": 4
}
