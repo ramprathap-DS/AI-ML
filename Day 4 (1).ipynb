{
 "cells": [
  {
   "cell_type": "code",
   "execution_count": 7,
   "metadata": {},
   "outputs": [
    {
     "name": "stdout",
     "output_type": "stream",
     "text": [
      "(3-1j)\n",
      "(-1+7j)\n",
      "(14+2j)\n",
      "(-0.5+0.5j)\n"
     ]
    },
    {
     "ename": "TypeError",
     "evalue": "can't take floor of complex number.",
     "output_type": "error",
     "traceback": [
      "\u001b[1;31m---------------------------------------------------------------------------\u001b[0m",
      "\u001b[1;31mTypeError\u001b[0m                                 Traceback (most recent call last)",
      "\u001b[1;32m<ipython-input-7-e5c3c82c0db2>\u001b[0m in \u001b[0;36m<module>\u001b[1;34m\u001b[0m\n\u001b[0;32m      5\u001b[0m \u001b[0mprint\u001b[0m\u001b[1;33m(\u001b[0m\u001b[0ma\u001b[0m\u001b[1;33m*\u001b[0m\u001b[0mb\u001b[0m\u001b[1;33m)\u001b[0m\u001b[1;33m\u001b[0m\u001b[1;33m\u001b[0m\u001b[0m\n\u001b[0;32m      6\u001b[0m \u001b[0mprint\u001b[0m\u001b[1;33m(\u001b[0m\u001b[0ma\u001b[0m\u001b[1;33m/\u001b[0m\u001b[0mb\u001b[0m\u001b[1;33m)\u001b[0m\u001b[1;33m\u001b[0m\u001b[1;33m\u001b[0m\u001b[0m\n\u001b[1;32m----> 7\u001b[1;33m \u001b[0mprint\u001b[0m\u001b[1;33m(\u001b[0m\u001b[0ma\u001b[0m\u001b[1;33m//\u001b[0m\u001b[0mb\u001b[0m\u001b[1;33m)\u001b[0m\u001b[1;33m\u001b[0m\u001b[1;33m\u001b[0m\u001b[0m\n\u001b[0m\u001b[0;32m      8\u001b[0m \u001b[0mprint\u001b[0m\u001b[1;33m(\u001b[0m\u001b[0ma\u001b[0m\u001b[1;33m%\u001b[0m\u001b[0mb\u001b[0m\u001b[1;33m)\u001b[0m\u001b[1;33m\u001b[0m\u001b[1;33m\u001b[0m\u001b[0m\n",
      "\u001b[1;31mTypeError\u001b[0m: can't take floor of complex number."
     ]
    }
   ],
   "source": [
    "a=1+3j\n",
    "b=2-4j\n",
    "print(a+b)\n",
    "print(a-b)\n",
    "print(a*b)\n",
    "print(a/b)\n",
    "print(a//b)\n",
    "print(a%b)\n"
   ]
  },
  {
   "cell_type": "markdown",
   "metadata": {},
   "source": [
    "# Question 1 :\n",
    "Research on whether addition, subtraction, multiplication, division, floor division and modulo\n",
    "operations be performed on complex numbers. Based on your study, implement a Python\n",
    "program to demonstrate these operations\n",
    "\n",
    "Ans: From above it is understood that floor division and modulo cannot be performed on complex numbers in python.\n",
    "\n",
    "\n"
   ]
  },
  {
   "cell_type": "markdown",
   "metadata": {},
   "source": [
    "# Question 2 :\n",
    "Research on range() functions and its parameters. Create a markdown cell and write in your own\n",
    "words (no copy-paste from google please) what you understand about it. Implement a small\n",
    "program of your choice on the same.\n",
    "\n",
    "Range(x,y) is a function that gives values from x to y-1\n",
    "Range can be operated with 3 vairables inside range function.\n",
    "eg: range(5) - This gives vaues from 0-5. By default it takes 0 as statring value.\n",
    "eg 2: range(1,5) - this gives range of values from 1-4\n",
    "eg 3: range(1,10,3)- the 3rd variable here skips the count by 3. i.e the 3 rd varaible is a skip count.\n",
    "\n",
    "\n"
   ]
  },
  {
   "cell_type": "code",
   "execution_count": 19,
   "metadata": {},
   "outputs": [
    {
     "name": "stdout",
     "output_type": "stream",
     "text": [
      "range(0, 5)\n"
     ]
    }
   ],
   "source": [
    "i=range(5)\n",
    "print(i)"
   ]
  },
  {
   "cell_type": "code",
   "execution_count": 29,
   "metadata": {},
   "outputs": [
    {
     "name": "stdout",
     "output_type": "stream",
     "text": [
      "1\n",
      "2\n",
      "3\n",
      "4\n",
      "5\n",
      "6\n"
     ]
    }
   ],
   "source": [
    "# sequence started with 1 and ended with n-1\n",
    "for i in range(1,7):\n",
    "    print(i)"
   ]
  },
  {
   "cell_type": "code",
   "execution_count": 32,
   "metadata": {},
   "outputs": [
    {
     "name": "stdout",
     "output_type": "stream",
     "text": [
      "1\n",
      "4\n",
      "7\n"
     ]
    }
   ],
   "source": [
    "# the printing range is skipped count by 3\n",
    "# the print shall be 4 charececters away from the start of the line.\n",
    "for i in range(1,10,3):\n",
    "    print(i)"
   ]
  },
  {
   "cell_type": "code",
   "execution_count": 33,
   "metadata": {},
   "outputs": [
    {
     "name": "stdout",
     "output_type": "stream",
     "text": [
      "10\n",
      "8\n",
      "6\n"
     ]
    }
   ],
   "source": [
    "# the skip count can be negative as well. i.e decreasing value.\n",
    "for i in range(10,5,-2):\n",
    "    print(i)"
   ]
  },
  {
   "cell_type": "code",
   "execution_count": 21,
   "metadata": {},
   "outputs": [
    {
     "name": "stdout",
     "output_type": "stream",
     "text": [
      "1.0\n"
     ]
    }
   ],
   "source": [
    "#Question 3:\n",
    "'''Consider two numbers. Perform their subtraction and if the result of subtraction is greater than\n",
    "25, print their multiplication result else print their division result.'''\n",
    "a=45\n",
    "b=45\n",
    "if(a-b>=25):\n",
    "    print(a*b)\n",
    "else:\n",
    "    print (a/b)\n",
    "            \n",
    "   "
   ]
  },
  {
   "cell_type": "code",
   "execution_count": 46,
   "metadata": {},
   "outputs": [
    {
     "name": "stdout",
     "output_type": "stream",
     "text": [
      "The square of that number -2 is 11662\n",
      "The square of that number -2 is 39998\n",
      "the result of number/2 is  998.5\n",
      "The square of that number -2 is 3999998\n",
      "The square of that number -2 is 9998\n",
      "The square of that number -2 is 159998\n",
      "The square of that number -2 is 89998\n",
      "the result of number/2 is  112.5\n",
      "the result of number/2 is  166.5\n",
      "The square of that number -2 is 3920398\n"
     ]
    }
   ],
   "source": [
    "# Question 4:\n",
    "'''Consider a list of 10 elements of integer values. If the number in the list is divisible by 2, print the\n",
    "result as \"square of that number minus 2\".'''\n",
    "list = [108,200,1997, 2000,100,400,300,225,333,1980];\n",
    "for i in list:\n",
    "    if (i % 2== 0):\n",
    "        print( \"The square of that number -2 is\",i**2-2)\n",
    "    else:\n",
    "        print(\"the result of number/2 is \", i/2)"
   ]
  },
  {
   "cell_type": "code",
   "execution_count": 51,
   "metadata": {},
   "outputs": [
    {
     "name": "stdout",
     "output_type": "stream",
     "text": [
      "0\n",
      "200\n",
      "0\n",
      "100\n",
      "400\n",
      "300\n",
      "0\n",
      "0\n",
      "1980\n",
      "3400\n"
     ]
    }
   ],
   "source": [
    "# Question 5:\n",
    "# Consider a list of 10 elements. Print all the elements in the list which are greater than 7 when that number is divided 2.\n",
    "list = [10.8,200,1997,100,400,300,225,333,1980,3400];\n",
    "for i in list:\n",
    "    if (i>7 and i%2==0):\n",
    "        print(i)\n",
    "    else:\n",
    "        print(0)\n"
   ]
  }
 ],
 "metadata": {
  "kernelspec": {
   "display_name": "Python 3",
   "language": "python",
   "name": "python3"
  },
  "language_info": {
   "codemirror_mode": {
    "name": "ipython",
    "version": 3
   },
   "file_extension": ".py",
   "mimetype": "text/x-python",
   "name": "python",
   "nbconvert_exporter": "python",
   "pygments_lexer": "ipython3",
   "version": "3.7.6"
  }
 },
 "nbformat": 4,
 "nbformat_minor": 4
}
