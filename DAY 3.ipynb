{
 "cells": [
  {
   "cell_type": "code",
   "execution_count": 2,
   "metadata": {},
   "outputs": [
    {
     "name": "stdout",
     "output_type": "stream",
     "text": [
      "(-2+9j)\n"
     ]
    }
   ],
   "source": [
    "# Write a program to subtract two complex numbers in Python\n",
    "a= 2+3j\n",
    "b= 4-6j\n",
    "c= a-b\n",
    "print(c)"
   ]
  },
  {
   "cell_type": "code",
   "execution_count": 3,
   "metadata": {},
   "outputs": [
    {
     "name": "stdout",
     "output_type": "stream",
     "text": [
      "4.0\n"
     ]
    }
   ],
   "source": [
    "# Write a program to find the fourth root of a number\n",
    "a=16\n",
    "b= a ** 1/4\n",
    "print(b)"
   ]
  },
  {
   "cell_type": "code",
   "execution_count": 4,
   "metadata": {},
   "outputs": [
    {
     "name": "stdout",
     "output_type": "stream",
     "text": [
      "5 10\n"
     ]
    }
   ],
   "source": [
    "#Write a program to swap two numbers in Python with the help of a temporary variable.\n",
    "a=10\n",
    "b=5\n",
    "c=a\n",
    "a=b\n",
    "b=c\n",
    "print(a,b)"
   ]
  },
  {
   "cell_type": "code",
   "execution_count": 10,
   "metadata": {},
   "outputs": [
    {
     "name": "stdout",
     "output_type": "stream",
     "text": [
      "a= 5\n",
      "b= 10\n"
     ]
    }
   ],
   "source": [
    "# Write a program to swap two numbers in Python without using a temporary variable.\n",
    "a=10\n",
    "b=5\n",
    "a=a+b\n",
    "b=a-b\n",
    "a=a-b\n",
    "print(\"a=\",a)\n",
    "print(\"b=\",b)"
   ]
  },
  {
   "cell_type": "code",
   "execution_count": 19,
   "metadata": {},
   "outputs": [
    {
     "name": "stdout",
     "output_type": "stream",
     "text": [
      "5\n",
      "<class 'int'>\n",
      "<class 'float'>\n",
      "<class 'complex'>\n",
      "ram\n"
     ]
    },
    {
     "data": {
      "text/plain": [
       "'C:\\\\Users\\\\DELL'"
      ]
     },
     "execution_count": 19,
     "metadata": {},
     "output_type": "execute_result"
    }
   ],
   "source": [
    "# Write a program to demonstrate all the available data types in Python. Hint: Use type() function.\n",
    "# the data types in python are:\n",
    "'''Numbers\n",
    "String\n",
    "List\n",
    "Tuple\n",
    "Dictionary'''\n",
    "\n",
    "# Numbers:\n",
    "x = 5\n",
    "y= 2.5\n",
    "z=2+3j\n",
    "print(x) \n",
    "print(type(x)) \n",
    "print(type(y))\n",
    "print(type(z))\n",
    "\n",
    "# String\n",
    "x=\"ram\"\n",
    "print(x)\n",
    "type(x)\n",
    "\n",
    "import os\n",
    "os.getcwd()"
   ]
  },
  {
   "cell_type": "markdown",
   "metadata": {},
   "source": [
    "'''Create a Markdown cell in jupyter and list the steps discussed in the session by Dr. Darshan\n",
    "Ingle sir to create Github profile and upload Githubs Assignment link.'''\n",
    "\n",
    "# Git hub is a place where we will push our code.\n",
    "We must keep the profile as public.\n",
    "Sign in to the github with a e mail .\n",
    "Do the assignment in the jupyter notebook in anaconda and download it as .ipynb file.\n",
    "Create a folder named with day number on your local computer. save that particular .ipynb file in that folder.\n",
    "\n",
    "click on the new in the github repository created as Letsupgrade AI-ML\n",
    "drag and drop the folder in which you saved the .ipynb file.\n",
    "after upload. click on committ changes.\n",
    "\n",
    "When you click on the file, you can see the note book you uploaded. Git hub supports alsmost all the programming codes.\n",
    "\n",
    "For uploading the assignment to google docs. \n",
    "1. Go in to the folder you saved your jupyter note book into the github repository.\n",
    "2. copy the url of that note book\n",
    "3. paste it in the google docs sheet furnished by lets upgrade\n",
    "4. click submit.\n"
   ]
  },
  {
   "cell_type": "code",
   "execution_count": 9,
   "metadata": {},
   "outputs": [
    {
     "name": "stdout",
     "output_type": "stream",
     "text": [
      "T(k)= 310.9277777777778\n",
      "T(c)= 37.77777777777778\n"
     ]
    }
   ],
   "source": [
    "# Write a program to convert fahrenheit to kelvin and celsius both\n",
    "# T(K) = (T(°F) + 459.67) × 5/9\n",
    "# T(°C) = (T(°F) - 32) × 5/9\n",
    "f=100\n",
    "print(\"T(k)=\",(f+459.67)*5/9)\n",
    "print(\"T(c)=\" ,(f-32)*5/9)\n",
    "\n"
   ]
  }
 ],
 "metadata": {
  "kernelspec": {
   "display_name": "Python 3",
   "language": "python",
   "name": "python3"
  },
  "language_info": {
   "codemirror_mode": {
    "name": "ipython",
    "version": 3
   },
   "file_extension": ".py",
   "mimetype": "text/x-python",
   "name": "python",
   "nbconvert_exporter": "python",
   "pygments_lexer": "ipython3",
   "version": "3.7.6"
  }
 },
 "nbformat": 4,
 "nbformat_minor": 4
}
